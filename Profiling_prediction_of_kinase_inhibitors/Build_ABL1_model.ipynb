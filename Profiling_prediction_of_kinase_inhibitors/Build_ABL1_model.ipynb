{
 "cells": [
  {
   "cell_type": "markdown",
   "metadata": {},
   "source": [
    "# Example for building an activity prediction model for the kinase ABL1"
   ]
  },
  {
   "cell_type": "code",
   "execution_count": 1,
   "metadata": {
    "collapsed": false
   },
   "outputs": [],
   "source": [
    "import pandas as pd\n",
    "import numpy as np\n",
    "\n",
    "from rdkit import Chem, DataStructs\n",
    "from rdkit.Chem.Draw import IPythonConsole\n",
    "from rdkit.Chem import PandasTools\n",
    "from rdkit.Chem import AllChem\n",
    "\n",
    "from sklearn.ensemble import RandomForestClassifier\n",
    "from sklearn.cross_validation import StratifiedKFold\n",
    "from imblearn.under_sampling import RandomUnderSampler\n",
    "from sklearn.metrics import recall_score, cohen_kappa_score, roc_auc_score"
   ]
  },
  {
   "cell_type": "markdown",
   "metadata": {},
   "source": [
    "### Helper functions"
   ]
  },
  {
   "cell_type": "code",
   "execution_count": 2,
   "metadata": {
    "collapsed": false
   },
   "outputs": [],
   "source": [
    "class FP:\n",
    "    \"\"\"\n",
    "    Molecular fingerprint class that packs fingerprints in pandas df\n",
    "\n",
    "    Parameters\n",
    "    ----------\n",
    "    fp : np.array\n",
    "        Features stored in numpy array\n",
    "    \"\"\"\n",
    "    def __init__(self, fp):\n",
    "        self.fp = fp\n",
    "    def __str__(self):\n",
    "        return \"%d bit FP\" % len(self.fp)\n",
    "    def __len__(self):\n",
    "        return len(self.fp)\n",
    "\n",
    "def get_fp(mol):\n",
    "    \"\"\"\n",
    "    Generate concatenated connectivity- and feature-based RDKit Morgan fingerprint\n",
    "    with fixed length and radius\n",
    "    \n",
    "    Parameters\n",
    "    ----------\n",
    "    mol : ROMol\n",
    "        Input molecule\n",
    "        \n",
    "    Returns\n",
    "    -------\n",
    "    ML.FP\n",
    "        Fingerprint (feature) object\n",
    "    \"\"\"\n",
    "    info = {}\n",
    "    arr = np.zeros((1,))\n",
    "    fp = AllChem.GetMorganFingerprintAsBitVect(mol, 4, nBits=4096,\n",
    "                                               useFeatures=False, bitInfo=info)\n",
    "    DataStructs.ConvertToNumpyArray(fp, arr)\n",
    "    arr = np.array([len(info[x]) if x in info else 0 for x in range(4096)])\n",
    "    \n",
    "    info2 = {}\n",
    "    arr2 = np.zeros((1,))\n",
    "    fp2 = AllChem.GetMorganFingerprintAsBitVect(mol, 4, nBits=4096,\n",
    "                                                useFeatures=True, bitInfo=info2)\n",
    "    DataStructs.ConvertToNumpyArray(fp2, arr2)\n",
    "    arr2 = np.array([len(info2[x]) if x in info2 else 0 for x in range(4096)])\n",
    "    \n",
    "    fp_out = np.concatenate([arr, arr2])\n",
    "    return FP(fp_out)"
   ]
  },
  {
   "cell_type": "code",
   "execution_count": 3,
   "metadata": {
    "collapsed": true
   },
   "outputs": [],
   "source": [
    "def get_binary_class(x, threshold=6.3):\n",
    "    \"\"\"\n",
    "    For binarization of (pIC50) data. 6.3 corresponds to 500 nM\n",
    "    \"\"\"\n",
    "    if np.isnan(x):\n",
    "        return None\n",
    "    elif x < threshold:\n",
    "        return 0\n",
    "    else:\n",
    "        return 1"
   ]
  },
  {
   "cell_type": "markdown",
   "metadata": {},
   "source": [
    "### Data preparation"
   ]
  },
  {
   "cell_type": "code",
   "execution_count": 4,
   "metadata": {
    "collapsed": true
   },
   "outputs": [],
   "source": [
    "df = pd.read_csv(\"ABL1.csv\", index_col=0)"
   ]
  },
  {
   "cell_type": "code",
   "execution_count": 5,
   "metadata": {
    "collapsed": false
   },
   "outputs": [
    {
     "data": {
      "text/html": [
       "<div>\n",
       "<table border=\"1\" class=\"dataframe\">\n",
       "  <thead>\n",
       "    <tr style=\"text-align: right;\">\n",
       "      <th></th>\n",
       "      <th>ABL1</th>\n",
       "      <th>smiles</th>\n",
       "    </tr>\n",
       "  </thead>\n",
       "  <tbody>\n",
       "    <tr>\n",
       "      <th>0</th>\n",
       "      <td>5.599999</td>\n",
       "      <td>Brc1ccc2cnc(Nc3ccncn3)cc2c1</td>\n",
       "    </tr>\n",
       "    <tr>\n",
       "      <th>1</th>\n",
       "      <td>6.199998</td>\n",
       "      <td>Brc1cnc2[nH]cc(-c3ccccc3)c2c1</td>\n",
       "    </tr>\n",
       "    <tr>\n",
       "      <th>2</th>\n",
       "      <td>6.199998</td>\n",
       "      <td>C#Cc1cc2c(cc1OC)-c1[nH]nc(-c3ccc(C#N)nc3)c1C2</td>\n",
       "    </tr>\n",
       "    <tr>\n",
       "      <th>3</th>\n",
       "      <td>5.539102</td>\n",
       "      <td>C#Cc1cccc(Nc2ncnc3cc(OC)c(OCCCCCCC(=O)NO)cc23)c1</td>\n",
       "    </tr>\n",
       "    <tr>\n",
       "      <th>4</th>\n",
       "      <td>5.562959</td>\n",
       "      <td>C#Cc1cccc(Nc2ncnc3ccc(OCCCCNCCS(C)(=O)=O)cc23)c1</td>\n",
       "    </tr>\n",
       "  </tbody>\n",
       "</table>\n",
       "</div>"
      ],
      "text/plain": [
       "       ABL1                                            smiles\n",
       "0  5.599999                       Brc1ccc2cnc(Nc3ccncn3)cc2c1\n",
       "1  6.199998                     Brc1cnc2[nH]cc(-c3ccccc3)c2c1\n",
       "2  6.199998     C#Cc1cc2c(cc1OC)-c1[nH]nc(-c3ccc(C#N)nc3)c1C2\n",
       "3  5.539102  C#Cc1cccc(Nc2ncnc3cc(OC)c(OCCCCCCC(=O)NO)cc23)c1\n",
       "4  5.562959  C#Cc1cccc(Nc2ncnc3ccc(OCCCCNCCS(C)(=O)=O)cc23)c1"
      ]
     },
     "execution_count": 5,
     "metadata": {},
     "output_type": "execute_result"
    }
   ],
   "source": [
    "df.head()"
   ]
  },
  {
   "cell_type": "code",
   "execution_count": 6,
   "metadata": {
    "collapsed": true
   },
   "outputs": [],
   "source": [
    "df['ABL1'] = df['ABL1'].astype(float)"
   ]
  },
  {
   "cell_type": "markdown",
   "metadata": {},
   "source": [
    "Remove lines without compound information (SMILES)"
   ]
  },
  {
   "cell_type": "code",
   "execution_count": 7,
   "metadata": {
    "collapsed": true
   },
   "outputs": [],
   "source": [
    "df = df[~df.smiles.isnull()]"
   ]
  },
  {
   "cell_type": "markdown",
   "metadata": {},
   "source": [
    "Build ROMol objects"
   ]
  },
  {
   "cell_type": "code",
   "execution_count": 8,
   "metadata": {
    "collapsed": true
   },
   "outputs": [],
   "source": [
    "PandasTools.AddMoleculeColumnToFrame(df, smilesCol='smiles')"
   ]
  },
  {
   "cell_type": "markdown",
   "metadata": {},
   "source": [
    "Remove compounds where molecule object construction failed"
   ]
  },
  {
   "cell_type": "code",
   "execution_count": 9,
   "metadata": {
    "collapsed": true
   },
   "outputs": [],
   "source": [
    "df = df[~df.ROMol.isnull()]"
   ]
  },
  {
   "cell_type": "markdown",
   "metadata": {},
   "source": [
    "Remove salts and recreate SMILES"
   ]
  },
  {
   "cell_type": "code",
   "execution_count": 10,
   "metadata": {
    "collapsed": true
   },
   "outputs": [],
   "source": [
    "PandasTools.RemoveSaltsFromFrame(df)\n",
    "df['smiles'] = df['ROMol'].map(Chem.MolToSmiles)"
   ]
  },
  {
   "cell_type": "code",
   "execution_count": 11,
   "metadata": {
    "collapsed": false
   },
   "outputs": [
    {
     "data": {
      "text/plain": [
       "(2323, 3)"
      ]
     },
     "execution_count": 11,
     "metadata": {},
     "output_type": "execute_result"
    }
   ],
   "source": [
    "df.shape"
   ]
  },
  {
   "cell_type": "code",
   "execution_count": 12,
   "metadata": {
    "collapsed": false
   },
   "outputs": [
    {
     "data": {
      "text/html": [
       "<table border=\"1\" class=\"dataframe\">\n",
       "  <thead>\n",
       "    <tr style=\"text-align: right;\">\n",
       "      <th></th>\n",
       "      <th>ABL1</th>\n",
       "      <th>smiles</th>\n",
       "      <th>ROMol</th>\n",
       "    </tr>\n",
       "  </thead>\n",
       "  <tbody>\n",
       "    <tr>\n",
       "      <th>0</th>\n",
       "      <td>5.599999</td>\n",
       "      <td>Brc1ccc2cnc(Nc3ccncn3)cc2c1</td>\n",
       "      <td><img src=\"data:image/png;base64,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\" alt=\"Mol\"/></td>\n",
       "    </tr>\n",
       "    <tr>\n",
       "      <th>1</th>\n",
       "      <td>6.199998</td>\n",
       "      <td>Brc1cnc2[nH]cc(-c3ccccc3)c2c1</td>\n",
       "      <td><img src=\"data:image/png;base64,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\" alt=\"Mol\"/></td>\n",
       "    </tr>\n",
       "  </tbody>\n",
       "</table>"
      ],
      "text/plain": [
       "       ABL1                         smiles                                                                                                                                                                                                                                                                                                                                                                                                                                                                                                                                                                                                                                                                                                                                                                                                                                                                                                                                                                                                                                                                                                                                                                                                                                                                                                                                                                                                                                                                                                                                                                                                                                                                                                                                                                                                                                                                                                                                                                                                                                                                                                                                                                                                                                                                                                                                                                                                                                                                                                                                                                                                                                                                                                                                                                                                                                                                                                                                                                                                                                                                                                                                                                                                                                                                                                                                                                                                                                                                                                                                                                                                                                                                                                                                                                                                                                                                                                                                                                                                                                                                                                                                                                                                                                                                                                                                                                                                                                                                                                                                                                                                                                                                                                                                                                                                                                                                                                                                                                                                                                                                                                                                                                                                                                                                                                                                                                                                                                                                                                                                                                                                                                                                                                                                                                                                                                                                                                                                                                                                                                                                                                                                                                                                                                                                                                                                                                                                                                                                                                                                                                                                                                                                                                                                                                                                                                                                                                                                                                                                                                                                                                                                                                                                                                                                                                                                                                                                                                                                                                                                                                                                                                                                                                                                                                                                                                                                                                                                                                                                                                                                                                                                                                                                                                                                                                                                                                                                                                                                                                                                                                                                                                                                                                                                                                                                                                                                                                                                                                                                                                                                                                                                                                                                                                                                                                                              ROMol\n",
       "0  5.599999    Brc1ccc2cnc(Nc3ccncn3)cc2c1                                                                                                                                                                                                                                                                                                                                                                                                                  <img src=\"data:image/png;base64,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\" alt=\"Mol\"/>\n",
       "1  6.199998  Brc1cnc2[nH]cc(-c3ccccc3)c2c1  <img src=\"data:image/png;base64,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\" alt=\"Mol\"/>"
      ]
     },
     "execution_count": 12,
     "metadata": {},
     "output_type": "execute_result"
    }
   ],
   "source": [
    "df.head(2)"
   ]
  },
  {
   "cell_type": "markdown",
   "metadata": {},
   "source": [
    "Calculate fingerprints and store in data frame"
   ]
  },
  {
   "cell_type": "code",
   "execution_count": 13,
   "metadata": {
    "collapsed": false
   },
   "outputs": [],
   "source": [
    "df['fp'] = df.apply(lambda x: get_fp(x['ROMol']), axis=1)"
   ]
  },
  {
   "cell_type": "markdown",
   "metadata": {},
   "source": [
    "### Generation of machine learning models"
   ]
  },
  {
   "cell_type": "markdown",
   "metadata": {},
   "source": [
    "Define X variable (fingerprint data)"
   ]
  },
  {
   "cell_type": "code",
   "execution_count": 14,
   "metadata": {
    "collapsed": false
   },
   "outputs": [],
   "source": [
    "X = np.array([x.fp for x in df.fp])"
   ]
  },
  {
   "cell_type": "code",
   "execution_count": 15,
   "metadata": {
    "collapsed": false
   },
   "outputs": [
    {
     "data": {
      "text/plain": [
       "(2323, 8192)"
      ]
     },
     "execution_count": 15,
     "metadata": {},
     "output_type": "execute_result"
    }
   ],
   "source": [
    "X.shape"
   ]
  },
  {
   "cell_type": "markdown",
   "metadata": {},
   "source": [
    "Extract target values (y) form data frame and binarize at pIC50 = 6.3"
   ]
  },
  {
   "cell_type": "code",
   "execution_count": 16,
   "metadata": {
    "collapsed": true
   },
   "outputs": [],
   "source": [
    "y = np.array([get_binary_class(yi, threshold=6.3) for yi in df['ABL1'].values])"
   ]
  },
  {
   "cell_type": "code",
   "execution_count": 17,
   "metadata": {
    "collapsed": false
   },
   "outputs": [
    {
     "data": {
      "text/plain": [
       "(2323,)"
      ]
     },
     "execution_count": 17,
     "metadata": {},
     "output_type": "execute_result"
    }
   ],
   "source": [
    "y.shape"
   ]
  },
  {
   "cell_type": "markdown",
   "metadata": {},
   "source": [
    "Count actives in data set"
   ]
  },
  {
   "cell_type": "code",
   "execution_count": 18,
   "metadata": {
    "collapsed": false
   },
   "outputs": [
    {
     "data": {
      "text/plain": [
       "621"
      ]
     },
     "execution_count": 18,
     "metadata": {},
     "output_type": "execute_result"
    }
   ],
   "source": [
    "sum(y)"
   ]
  },
  {
   "cell_type": "markdown",
   "metadata": {},
   "source": [
    "### Validation: 5-fold cross-validation of random forest classifier"
   ]
  },
  {
   "cell_type": "code",
   "execution_count": 19,
   "metadata": {
    "collapsed": false
   },
   "outputs": [],
   "source": [
    "# Create index arrays for 5-fold cross-validation split\n",
    "kf = StratifiedKFold(y, n_folds=5, shuffle=True, random_state=123)\n",
    "\n",
    "# Initialize variables\n",
    "sens     = np.array([])\n",
    "spec     = np.array([])\n",
    "mean_auc = np.array([])\n",
    "kappa    = np.array([])\n",
    "\n",
    "for train, test in kf:\n",
    "    # Split data to training and test set\n",
    "    X_train, X_test, y_train, y_test = X[train], X[test], y[train], y[test]    \n",
    "\n",
    "    # Random undersampling of training set\n",
    "    US = RandomUnderSampler(ratio=1., replacement=False)\n",
    "    X_train, y_train = US.fit_sample(X_train, y_train)\n",
    "    \n",
    "    # Random undersampling of test set\n",
    "    US = RandomUnderSampler(ratio=1., replacement=False)\n",
    "    X_test, y_test = US.fit_sample(X_test, y_test)\n",
    "    \n",
    "    # Training of random forest classifier\n",
    "    clf = RandomForestClassifier(n_estimators=2500, max_features='log2',\n",
    "                                 class_weight='auto', n_jobs=1)\n",
    "    clf.fit(X_train, y_train)\n",
    "    \n",
    "    # Prediction of test set\n",
    "    y_pred       = clf.predict(X_test)\n",
    "    y_pred_proba = clf.predict_proba(X_test).T[1]\n",
    "    \n",
    "    # Saving validation parameters\n",
    "    # Criteria: AUC, sensitiviy, specificity and kappa\n",
    "    sens = np.append(sens, recall_score(y_test, y_pred, pos_label=1))\n",
    "    spec = np.append(spec, recall_score(y_test, y_pred, pos_label=0))\n",
    "    mean_auc = np.append(mean_auc, roc_auc_score(y_test, y_pred_proba))\n",
    "    kappa = np.append(kappa, cohen_kappa_score(y_test, y_pred))"
   ]
  },
  {
   "cell_type": "markdown",
   "metadata": {},
   "source": [
    "Results of 5-fold cross-validation"
   ]
  },
  {
   "cell_type": "code",
   "execution_count": 20,
   "metadata": {
    "collapsed": false
   },
   "outputs": [
    {
     "name": "stdout",
     "output_type": "stream",
     "text": [
      "AUC:\t\t0.92 +/- 0.02\n",
      "Sensitivity:\t0.78 +/- 0.03\n",
      "Specificity:\t0.88 +/- 0.03\n",
      "Kappa:\t\t0.66 +/- 0.05\n"
     ]
    }
   ],
   "source": [
    "print 'AUC:\\t\\t%.2f +/- %.2f' % (mean_auc.mean(), mean_auc.std())\n",
    "print 'Sensitivity:\\t%.2f +/- %.2f' % (sens.mean(), sens.std())\n",
    "print 'Specificity:\\t%.2f +/- %.2f' % (spec.mean(), spec.std())\n",
    "print 'Kappa:\\t\\t%.2f +/- %.2f' % (kappa.mean(), kappa.std())"
   ]
  },
  {
   "cell_type": "markdown",
   "metadata": {
    "collapsed": true
   },
   "source": [
    "Copyright (C) 2016 by Benjamin Merget, BioMed X Innovation Center"
   ]
  }
 ],
 "metadata": {
  "kernelspec": {
   "display_name": "Python 2",
   "language": "python",
   "name": "python2"
  },
  "language_info": {
   "codemirror_mode": {
    "name": "ipython",
    "version": 2
   },
   "file_extension": ".py",
   "mimetype": "text/x-python",
   "name": "python",
   "nbconvert_exporter": "python",
   "pygments_lexer": "ipython2",
   "version": "2.7.11"
  }
 },
 "nbformat": 4,
 "nbformat_minor": 0
}
